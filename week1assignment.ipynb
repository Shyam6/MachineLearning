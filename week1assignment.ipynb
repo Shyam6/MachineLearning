{
  "nbformat": 4,
  "nbformat_minor": 0,
  "metadata": {
    "colab": {
      "name": "week1assignment.ipynb",
      "provenance": [],
      "include_colab_link": true
    },
    "kernelspec": {
      "name": "python3",
      "display_name": "Python 3"
    }
  },
  "cells": [
    {
      "cell_type": "markdown",
      "metadata": {
        "id": "view-in-github",
        "colab_type": "text"
      },
      "source": [
        "<a href=\"https://colab.research.google.com/github/Shyam6/MachineLearning/blob/master/week1assignment.ipynb\" target=\"_parent\"><img src=\"https://colab.research.google.com/assets/colab-badge.svg\" alt=\"Open In Colab\"/></a>"
      ]
    },
    {
      "cell_type": "code",
      "metadata": {
        "id": "F-6bE0dYcBgA",
        "colab_type": "code",
        "colab": {}
      },
      "source": [
        "## Import stuff\n",
        " \n",
        "import numpy as np\n",
        "from sklearn import datasets, linear_model, metrics"
      ],
      "execution_count": 0,
      "outputs": []
    },
    {
      "cell_type": "code",
      "metadata": {
        "id": "gK71NIhMcEs5",
        "colab_type": "code",
        "colab": {}
      },
      "source": [
        "## Load the diabetes dataset\n",
        "diabetes = datasets.load_diabetes()\n",
        "diabetes_X = diabetes.data # matrix of dimensions 442x10\n",
        " \n",
        "# Split the data into training/testing sets\n",
        "diabetes_X_train = diabetes_X[:-20]\n",
        "diabetes_X_test = diabetes_X[-20:]\n",
        " \n",
        "# Split the targets into training/testing sets\n",
        "diabetes_y_train = diabetes.target[:-20]\n",
        "diabetes_y_test = diabetes.target[-20:]"
      ],
      "execution_count": 0,
      "outputs": []
    },
    {
      "cell_type": "code",
      "metadata": {
        "id": "XJTg22ybcHsl",
        "colab_type": "code",
        "colab": {
          "base_uri": "https://localhost:8080/",
          "height": 357
        },
        "outputId": "039b18c2-b40f-496f-d5b2-a46759ef493f"
      },
      "source": [
        "# train\n",
        "X = diabetes_X_train\n",
        "y = diabetes_y_train\n",
        " \n",
        "# train: init\n",
        "W=np.zeros(10)\n",
        "b=0\n",
        "learning_rate = 0.1\n",
        "epochs = 100000\n",
        " \n",
        "# train: gradient descent\n",
        "for i in range(epochs):\n",
        "    # calculate predictions\n",
        "    error=0\n",
        "    y_predicted=0\n",
        "    mean_squared_error=0\n",
        "    y_predicted=np.dot(X,W)+b\n",
        "    # calculate error and cost (mean squared error)\n",
        "    error = y_predicted-y\n",
        "    mean_squared_error=(1/844)*np.sum(np.square(error))\n",
        "    # calculate gradients\n",
        "    p=(1/422)*np.dot(X.T,error)\n",
        "    q=(1/422)*np.sum(error)\n",
        "    # update parameters\n",
        "    W=W-learning_rate*p\n",
        "    b=b-learning_rate*q\n",
        "    # diagnostic output\n",
        "    if i % 5000 == 0: print(\"Epoch %d: %f\" % (i, mean_squared_error))"
      ],
      "execution_count": 5,
      "outputs": [
        {
          "output_type": "stream",
          "text": [
            "Epoch 0: 14734.323460\n",
            "Epoch 5000: 1524.099638\n",
            "Epoch 10000: 1470.706970\n",
            "Epoch 15000: 1463.728650\n",
            "Epoch 20000: 1462.376138\n",
            "Epoch 25000: 1461.897451\n",
            "Epoch 30000: 1461.597617\n",
            "Epoch 35000: 1461.347012\n",
            "Epoch 40000: 1461.115463\n",
            "Epoch 45000: 1460.894566\n",
            "Epoch 50000: 1460.681519\n",
            "Epoch 55000: 1460.475130\n",
            "Epoch 60000: 1460.274728\n",
            "Epoch 65000: 1460.079839\n",
            "Epoch 70000: 1459.890088\n",
            "Epoch 75000: 1459.705159\n",
            "Epoch 80000: 1459.524779\n",
            "Epoch 85000: 1459.348712\n",
            "Epoch 90000: 1459.176750\n",
            "Epoch 95000: 1459.008707\n"
          ],
          "name": "stdout"
        }
      ]
    },
    {
      "cell_type": "code",
      "metadata": {
        "id": "uvSdTn-0cKJL",
        "colab_type": "code",
        "colab": {
          "base_uri": "https://localhost:8080/",
          "height": 102
        },
        "outputId": "b207c061-31a1-424f-b51f-1fa2bb4a7fec"
      },
      "source": [
        "# test\n",
        "X = diabetes_X_test\n",
        "y = diabetes_y_test\n",
        "# calculate predictions + calculate error and cost (same code as above)\n",
        "y_predicted=np.dot(X,W)+b \n",
        "error = y_predicted-y\n",
        "mean_squared_error=(1/40)*np.sum(np.square(error))\n",
        "print('Coefficients: \\n', W)\n",
        "print(\"Mean squared error: %.2f\" % mean_squared_error)\n",
        "print(\"=\"*120)"
      ],
      "execution_count": 6,
      "outputs": [
        {
          "output_type": "stream",
          "text": [
            "Coefficients: \n",
            " [   3.66162077 -234.66428413  519.39480725  325.58121803 -176.09741143\n",
            "  -16.44091006 -180.07233874  108.04606018  502.78371278   78.97034211]\n",
            "Mean squared error: 996.76\n",
            "========================================================================================================================\n"
          ],
          "name": "stdout"
        }
      ]
    }
  ]
}